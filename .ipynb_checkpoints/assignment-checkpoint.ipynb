{
 "cells": [
  {
   "cell_type": "code",
   "execution_count": null,
   "id": "757fd81c-76d9-4b5b-b516-15752c44369e",
   "metadata": {},
   "outputs": [],
   "source": [
    "import pandas as pd\n",
    "import plotly.express as px\n",
    "\n",
    "# Load dataset\n",
    "df=pd.read_csv(\"vehicles.csv\")"
   ]
  },
  {
   "cell_type": "markdown",
   "id": "e8fd9c3c-00bb-4237-aaba-d8215312e388",
   "metadata": {},
   "source": [
    "### Data processing"
   ]
  },
  {
   "cell_type": "code",
   "execution_count": null,
   "id": "8d65dada-30d1-4d6c-bcf3-21b36c80e123",
   "metadata": {},
   "outputs": [],
   "source": [
    "# Inspect the dataframe\n",
    "df"
   ]
  },
  {
   "cell_type": "code",
   "execution_count": null,
   "id": "632cc4be-85cc-4b22-a606-99943ca791f7",
   "metadata": {},
   "outputs": [],
   "source": [
    "df.head(5)"
   ]
  },
  {
   "cell_type": "code",
   "execution_count": null,
   "id": "797985e1-58d0-4357-ae65-e8507517ec48",
   "metadata": {},
   "outputs": [],
   "source": [
    "# Check for completeness\n",
    "df.info()"
   ]
  },
  {
   "cell_type": "code",
   "execution_count": null,
   "id": "6789905a-fb32-4739-8b87-10d3ba03504f",
   "metadata": {},
   "outputs": [],
   "source": [
    "# Check numeric summary\n",
    "df.describe()"
   ]
  },
  {
   "cell_type": "code",
   "execution_count": null,
   "id": "9a912436-28cc-4903-aba2-fc7c6ce463f2",
   "metadata": {},
   "outputs": [],
   "source": [
    "# Check categorical features\n",
    "df.describe(include='object')"
   ]
  },
  {
   "cell_type": "code",
   "execution_count": null,
   "id": "eb05b8c9-3c0c-4510-a1fc-4d8dd79c1c68",
   "metadata": {},
   "outputs": [],
   "source": [
    "# Unique count per column\n",
    "df.nunique()"
   ]
  },
  {
   "cell_type": "code",
   "execution_count": null,
   "id": "f47999f5-26f5-4875-bf02-58f91aed5587",
   "metadata": {},
   "outputs": [],
   "source": [
    "# Check missing values count\n",
    "df.isna().sum()"
   ]
  },
  {
   "cell_type": "code",
   "execution_count": null,
   "id": "d5dd7d90-cd57-4f96-8cee-309c8908b28c",
   "metadata": {},
   "outputs": [],
   "source": [
    "# Remove duplicates\n",
    "df = df.drop_duplicates()"
   ]
  },
  {
   "cell_type": "code",
   "execution_count": null,
   "id": "3163a0cb-348e-49d7-9356-d0bd636dd6ba",
   "metadata": {},
   "outputs": [],
   "source": [
    "# Drop non informative columns\n",
    "df = df.drop(columns=['url', 'region_url', 'image_url', 'description', 'id'])"
   ]
  },
  {
   "cell_type": "code",
   "execution_count": null,
   "id": "b5151df5-f556-40bd-b671-7f3c1e869a0e",
   "metadata": {},
   "outputs": [],
   "source": [
    "# Drop columns county and size with large number of missing values\n",
    "df = df.drop(columns=['county','size'])"
   ]
  },
  {
   "cell_type": "code",
   "execution_count": null,
   "id": "4fe80b10-025c-4221-bfd2-e234fef32f68",
   "metadata": {},
   "outputs": [],
   "source": [
    "# Drop missing rows in year,lat , long,fuel and transmission\n",
    "# with less number of missing values\n",
    "df = df.dropna(subset=['year','lat','long','fuel','transmission'])"
   ]
  },
  {
   "cell_type": "code",
   "execution_count": null,
   "id": "2434a9b2-ed8c-4194-8d16-3f9014fbcc40",
   "metadata": {},
   "outputs": [],
   "source": [
    "# Fill missing values with median for odometer\n",
    "df['odometer'] = df['odometer'].fillna(df['odometer'].median())"
   ]
  },
  {
   "cell_type": "code",
   "execution_count": null,
   "id": "0d711c94-6a1c-4ff4-9080-11320fd8570a",
   "metadata": {},
   "outputs": [],
   "source": [
    "# Add 'unknown' category for missing values in categorical data\n",
    "obj_cols = df.select_dtypes(include=\"object\").columns\n",
    "df[obj_cols] = df[obj_cols].fillna(\"unknown\")"
   ]
  },
  {
   "cell_type": "code",
   "execution_count": null,
   "id": "68e11a80-120c-4b3a-88bf-0184fd9ddc6a",
   "metadata": {},
   "outputs": [],
   "source": [
    "# Filter unrealistic Data\n",
    "df=df[df['price']>0]\n",
    "df=df[df['odometer']>0]"
   ]
  },
  {
   "cell_type": "markdown",
   "id": "69683c23-6552-4c96-925c-7df6b397a454",
   "metadata": {},
   "source": [
    "### Univariate analysis"
   ]
  },
  {
   "cell_type": "code",
   "execution_count": null,
   "id": "4319f89f-8313-49af-b43c-e36371827cae",
   "metadata": {},
   "outputs": [],
   "source": [
    "df.describe()"
   ]
  },
  {
   "cell_type": "code",
   "execution_count": null,
   "id": "cbecdfd2-d41e-437c-bef9-ff5e2037dec4",
   "metadata": {},
   "outputs": [],
   "source": [
    "df[['manufacturer','model','region','transmission','fuel']].describe()\n"
   ]
  },
  {
   "cell_type": "code",
   "execution_count": null,
   "id": "9d8cadb8-4e4e-42ec-89a0-263075a76bad",
   "metadata": {},
   "outputs": [],
   "source": [
    "# Distribution Plot of price (histogram and kde)\n",
    "fig = px.histogram(df,x=\"price\",nbins=50,marginal='box',title=\"Distribution of Vehicle Price\")\n",
    "fig.update_layout(xaxis_title=\"Vehicle Price (in $)\",yaxis_title=\"Frequency\",width=600,height=300)\n",
    "#fig.update_xaxes(type=\"log\")\n",
    "fig.show()"
   ]
  },
  {
   "cell_type": "code",
   "execution_count": null,
   "id": "95c6fefa-173c-4177-9175-0e3c05f8c517",
   "metadata": {},
   "outputs": [],
   "source": [
    "# Distribution of vehicle price\n",
    "# box plot due to the presence of large outliers\n",
    "# use log scale for better visibility\n",
    "fig = px.box(df, x=\"price\", title=\"Distribution of Vehicle Prices (Log Scale)\")\n",
    "fig.update_xaxes(type=\"log\")\n",
    "fig.update_layout(xaxis_title=\"Vehicle Price (in $)\",width=600,height=300)\n",
    "fig.show()"
   ]
  },
  {
   "cell_type": "code",
   "execution_count": null,
   "id": "e480f8f9-a4fb-4b16-be7d-707d11a3e804",
   "metadata": {},
   "outputs": [],
   "source": [
    "# Filter the price less than 100000 and odometer less than 400000 \n",
    "# for better result in the realistic range\n",
    "df = df[(df['price']<100000)&(df['odometer']<400000)]"
   ]
  },
  {
   "cell_type": "code",
   "execution_count": null,
   "id": "7f8ca797-5d2a-4a38-97e0-597a76dc89d5",
   "metadata": {},
   "outputs": [],
   "source": [
    "df.describe(include='all').T"
   ]
  },
  {
   "cell_type": "code",
   "execution_count": null,
   "id": "5612790f-94f9-4a7c-9675-fb3efcf6ba90",
   "metadata": {},
   "outputs": [],
   "source": [
    "# Distribution plot after filtering\n",
    "fig = px.histogram(df,x=\"price\",nbins=50,marginal='box',title=\"Distribution of Vehicle Price\")\n",
    "fig.update_layout(xaxis_title=\"Vehicle Price (in $)\",yaxis_title=\"Frequency\",width=600,height=300)\n",
    "fig.show()"
   ]
  },
  {
   "cell_type": "code",
   "execution_count": null,
   "id": "703587b9-30ce-4927-8bbc-fdbd4f749b7c",
   "metadata": {},
   "outputs": [],
   "source": [
    "# Distribution of Odometer\n",
    "fig = px.histogram(df,x=\"odometer\",nbins=50,marginal='box',title=\"Distribution of Odometer Reading\")\n",
    "fig.update_layout(xaxis_title=\"Odometer\",yaxis_title=\"Frequency\",width=600,height=300)\n",
    "fig.show()"
   ]
  },
  {
   "cell_type": "code",
   "execution_count": null,
   "id": "816b80de-36c6-4486-b337-d7fbb89ddab0",
   "metadata": {},
   "outputs": [],
   "source": [
    "# Manufacturer Popularity\n",
    "# Count each manufacturer ,drop unknown category\n",
    "count = df['manufacturer'].value_counts().drop(\"unknown\")\n",
    "# Find top 10 manufacturers by count\n",
    "top10 = count.nlargest(10).index\n",
    "# Filter the data to these manufacturers\n",
    "df_top10 = df[df['manufacturer'].isin(top10)]\n",
    "fig = px.histogram(\n",
    "    df_top10, \n",
    "    x='manufacturer',\n",
    "    title='Top 10 Manufacturers in Listings',\n",
    "    color='manufacturer',\n",
    "    text_auto=True\n",
    ")\n",
    "fig.update_layout(xaxis_title=\"Manufacturer\",yaxis_title=\"Count\",bargap=0.1,width=800,height=500)\n",
    "fig.show()"
   ]
  },
  {
   "cell_type": "markdown",
   "id": "cd904004-0781-427e-a8b3-1e0b837264d4",
   "metadata": {},
   "source": [
    "### Bivariate analysis"
   ]
  },
  {
   "cell_type": "code",
   "execution_count": null,
   "id": "52b297f4-7a53-43ef-9516-97b1180cd9e3",
   "metadata": {},
   "outputs": [],
   "source": [
    "# Correlation matrix for price,year and odometer reading\n",
    "# Compute the correlation matrix\n",
    "correlation_matrix = df[['price','year','odometer']].corr()\n",
    "# Plot the heatmap\n",
    "fig = px.imshow(correlation_matrix, text_auto=True,\n",
    "color_continuous_scale=\"Viridis\",title=\"Correlation Matrix Heatmap\",width=600,height=400)\n",
    "fig.show()"
   ]
  },
  {
   "cell_type": "code",
   "execution_count": null,
   "id": "b7d0945f-524c-4e2a-8ad9-d1dfddfa2a48",
   "metadata": {
    "scrolled": true
   },
   "outputs": [],
   "source": [
    "# Scatter plot showing relationship between price and odometer\n",
    "fig = px.scatter(df, x='odometer', y='price', color='odometer',\n",
    "title='Scatter Plot of Price vs Odometer')\n",
    "fig.show()"
   ]
  },
  {
   "cell_type": "code",
   "execution_count": null,
   "id": "50c42cdc-6bdc-4135-ad9d-1d5906000d9d",
   "metadata": {},
   "outputs": [],
   "source": [
    "# How price varies with model year\n",
    "# create a new DataFrame with two columns price and year\n",
    "df_year_price = df[['year','price']]\n",
    "# Group the DataFrame by year and calculate average price for each year\n",
    "# Convert result into a new DataFrame with columns year and mean price\n",
    "avg_year_price = df_year_price.groupby('year')['price'].mean().reset_index()\n",
    "# Plot line graph of year and average price \n",
    "fig = px.line(avg_year_price,x='year',y='price',title='Average Vehicle Price by Model Year')\n",
    "fig.update_layout(xaxis_title='Model Year',yaxis_title=\"Average Price (in $ )\",width=600,height=300)\n",
    "fig.show()\n",
    "\n"
   ]
  },
  {
   "cell_type": "code",
   "execution_count": null,
   "id": "aa3f3056-e941-4e5e-88a5-1ddeae0f22d5",
   "metadata": {},
   "outputs": [],
   "source": [
    "# How avg price varies with brand\n",
    "# create a new data frame with two columns price and manufacturer\n",
    "df_brand_price = df[['price','manufacturer']]\n",
    "# Group the DataFrame by manufacturer and calculate average price\n",
    "# Convert result into a new DataFrame with columns manufacturer and average price\n",
    "avg_brand_price = df_brand_price.groupby('manufacturer')['price'].mean().reset_index()\n",
    "# Filter top 10 average price and brand\n",
    "top10_avg_price = avg_brand_price.sort_values(by='price', ascending=False).head(10)\n",
    "fig = px.histogram(\n",
    "    top10_avg_price, \n",
    "    x='manufacturer',y='price',\n",
    "    title='Top 10 Average Price by Manufacturers',\n",
    "    color='manufacturer',\n",
    "    text_auto=False\n",
    ")\n",
    "fig.update_layout(xaxis_title=\"Manufacturer\",yaxis_title=\"Average Price($)\",bargap=0.1,width=800,height=500)\n",
    "fig.show()\n",
    "\n",
    "\n"
   ]
  },
  {
   "cell_type": "code",
   "execution_count": null,
   "id": "4baa7148-3ed9-4760-8451-91ae6c9b92d7",
   "metadata": {},
   "outputs": [],
   "source": [
    "# Vehicle price distribution for various fuel types\n",
    "fig = px.box(df, x=\"price\",y=\"fuel\",color=\"fuel\",title=\"Fuel Type vs Vehicle Price\")\n",
    "fig.update_layout(xaxis_title=\"Vehicle Price (in $)\",width=600,height=500)\n",
    "fig.show()"
   ]
  },
  {
   "cell_type": "code",
   "execution_count": null,
   "id": "40d9604a-dcb7-47b8-9d98-572c279d8b79",
   "metadata": {},
   "outputs": [],
   "source": [
    "# Vehicle count for various fuel types\n",
    "# Count the number of vehicles for each fuel type\n",
    "fuel_counts = df['fuel'].value_counts().reset_index()\n",
    "fuel_counts.columns = ['fuel','count']\n",
    "# Create a bar chart to display the vehicle count for each fuel type\n",
    "fig = px.bar(fuel_counts, x='fuel', y='count', title='Vehicle Count by Fuel Type',labels={'fuel': 'Fuel Type', 'count': 'Vehicle Count'},\n",
    "    text='count')\n",
    "# Show the figure\n",
    "fig.show()"
   ]
  },
  {
   "cell_type": "code",
   "execution_count": null,
   "id": "04449aa1-0f60-4657-9674-0bf859b8d3aa",
   "metadata": {},
   "outputs": [],
   "source": [
    "# Average vehicle price in various states\n",
    "# Group by state and calculate average price\n",
    "df_state_price = df.groupby('state')['price'].mean().reset_index()\n",
    "df_state_price.columns = ['state', 'average_price']\n",
    "# Convert state code into uppercase\n",
    "df_state_price['state'] = df_state_price['state'].str.upper()\n",
    "# Create choropleth map\n",
    "fig = px.choropleth(\n",
    "    df_state_price,\n",
    "    locations='state',\n",
    "    locationmode='USA-states',\n",
    "    color='average_price',\n",
    "    hover_name='state',\n",
    "    hover_data={'average_price': ':,.0f'},\n",
    "    color_continuous_scale='Viridis',\n",
    "    scope='usa',\n",
    "    labels={'average_price': 'Average Price ($)'},\n",
    "    title='Average Used Car Prices by State in USA'\n",
    ")\n",
    "# Update layout\n",
    "fig.update_layout(\n",
    "    geo=dict(\n",
    "        showframe=False,\n",
    "        showcoastlines=True,\n",
    "    ),\n",
    "    width=1000,\n",
    "    height=600\n",
    ")\n",
    "fig.show()"
   ]
  },
  {
   "cell_type": "code",
   "execution_count": null,
   "id": "6a7ad294-3a72-44c9-9279-dbb4e60747e2",
   "metadata": {},
   "outputs": [],
   "source": []
  }
 ],
 "metadata": {
  "kernelspec": {
   "display_name": "Python 3 (ipykernel)",
   "language": "python",
   "name": "python3"
  },
  "language_info": {
   "codemirror_mode": {
    "name": "ipython",
    "version": 3
   },
   "file_extension": ".py",
   "mimetype": "text/x-python",
   "name": "python",
   "nbconvert_exporter": "python",
   "pygments_lexer": "ipython3",
   "version": "3.13.3"
  }
 },
 "nbformat": 4,
 "nbformat_minor": 5
}
